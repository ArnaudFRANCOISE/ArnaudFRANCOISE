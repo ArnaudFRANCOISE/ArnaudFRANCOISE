{
  "nbformat": 4,
  "nbformat_minor": 0,
  "metadata": {
    "colab": {
      "name": "StackOverflow_LSTM_corpus contraction.ipynb",
      "provenance": [],
      "collapsed_sections": [],
      "mount_file_id": "1aO_UehFe2zKOubwLSWrCZPSfdFKzJb2m",
      "authorship_tag": "ABX9TyM3GNOer/ruTWXGkfi5fo+8",
      "include_colab_link": true
    },
    "kernelspec": {
      "name": "python3",
      "display_name": "Python 3"
    },
    "language_info": {
      "name": "python"
    }
  },
  "cells": [
    {
      "cell_type": "markdown",
      "metadata": {
        "id": "view-in-github",
        "colab_type": "text"
      },
      "source": [
        "<a href=\"https://colab.research.google.com/github/ArnaudFRANCOISE/ArnaudFRANCOISE/blob/main/StackOverflow_LSTM_corpus_contraction.ipynb\" target=\"_parent\"><img src=\"https://colab.research.google.com/assets/colab-badge.svg\" alt=\"Open In Colab\"/></a>"
      ]
    },
    {
      "cell_type": "code",
      "metadata": {
        "colab": {
          "base_uri": "https://localhost:8080/"
        },
        "id": "fd5o1UhmSbzN",
        "outputId": "c5e46ebc-c95f-46cb-a973-3561faac90eb"
      },
      "source": [
        "import pickle\n",
        "import numpy as np  \n",
        "import pandas as pd\n",
        "\n",
        "import drive.MyDrive.preprocess_tools as pts\n",
        "\n",
        "!git clone https://github.com/ArnaudFRANCOISE/StackOverflow_tags_prediction.git\n",
        "!ls"
      ],
      "execution_count": null,
      "outputs": [
        {
          "output_type": "stream",
          "name": "stdout",
          "text": [
            "[nltk_data] Downloading package stopwords to /root/nltk_data...\n",
            "[nltk_data]   Unzipping corpora/stopwords.zip.\n",
            "[nltk_data] Downloading package wordnet to /root/nltk_data...\n",
            "[nltk_data]   Unzipping corpora/wordnet.zip.\n",
            "[nltk_data] Downloading package punkt to /root/nltk_data...\n",
            "[nltk_data]   Unzipping tokenizers/punkt.zip.\n",
            "Cloning into 'StackOverflow_tags_prediction'...\n",
            "remote: Enumerating objects: 61, done.\u001b[K\n",
            "remote: Counting objects: 100% (61/61), done.\u001b[K\n",
            "remote: Compressing objects: 100% (56/56), done.\u001b[K\n",
            "remote: Total 61 (delta 16), reused 5 (delta 2), pack-reused 0\u001b[K\n",
            "Unpacking objects: 100% (61/61), done.\n",
            "Checking out files: 100% (31/31), done.\n",
            "drive  sample_data  StackOverflow_tags_prediction\n"
          ]
        }
      ]
    },
    {
      "cell_type": "code",
      "metadata": {
        "colab": {
          "base_uri": "https://localhost:8080/",
          "height": 753
        },
        "id": "tRdlT2GBLeDG",
        "outputId": "8eb73db0-3834-4b9e-89df-c52b86b82b64"
      },
      "source": [
        "import os\n",
        "import pandas as pd\n",
        "\n",
        "from os import listdir\n",
        "from os.path import isfile, join\n",
        "\n",
        "mypath = \"/content/StackOverflow_tags_prediction/QueryResults/QueryResults/\"\n",
        "\n",
        "filenames = [f for f in listdir(mypath) if isfile(join(mypath, f))]\n",
        "#gather all csv into one dataframe\n",
        "#print(len(filenames))\n",
        "data = pd.read_csv(mypath+filenames[0])\n",
        "data\n",
        "\n",
        "for filename in filenames[1:]:\n",
        "  d = pd.read_csv(mypath+filename)\n",
        "  data = pd.concat([data, d.iloc[:5000,:]], axis=0)\n",
        "  #print(data.shape)\n",
        "\n",
        "#eliminate duplicate\n",
        "data = data.drop_duplicates(subset=['Body'])\n",
        "data"
      ],
      "execution_count": null,
      "outputs": [
        {
          "output_type": "execute_result",
          "data": {
            "text/html": [
              "<div>\n",
              "<style scoped>\n",
              "    .dataframe tbody tr th:only-of-type {\n",
              "        vertical-align: middle;\n",
              "    }\n",
              "\n",
              "    .dataframe tbody tr th {\n",
              "        vertical-align: top;\n",
              "    }\n",
              "\n",
              "    .dataframe thead th {\n",
              "        text-align: right;\n",
              "    }\n",
              "</style>\n",
              "<table border=\"1\" class=\"dataframe\">\n",
              "  <thead>\n",
              "    <tr style=\"text-align: right;\">\n",
              "      <th></th>\n",
              "      <th>Id</th>\n",
              "      <th>Body</th>\n",
              "      <th>Title</th>\n",
              "      <th>Tags</th>\n",
              "      <th>CreationDate</th>\n",
              "    </tr>\n",
              "  </thead>\n",
              "  <tbody>\n",
              "    <tr>\n",
              "      <th>0</th>\n",
              "      <td>3967692</td>\n",
              "      <td>&lt;p&gt;I'm currently looking into automating a sof...</td>\n",
              "      <td>Build Automation &amp; MySQL Workbench Scripting: ...</td>\n",
              "      <td>&lt;scripting&gt;&lt;lua&gt;&lt;build-automation&gt;&lt;mysql-workb...</td>\n",
              "      <td>2010-10-19 11:07:33</td>\n",
              "    </tr>\n",
              "    <tr>\n",
              "      <th>1</th>\n",
              "      <td>62730636</td>\n",
              "      <td>&lt;p&gt;I want to inherit &lt;strong&gt;method&lt;/strong&gt; &amp;...</td>\n",
              "      <td>How to inherit method?</td>\n",
              "      <td>&lt;lua&gt;</td>\n",
              "      <td>2020-07-04 14:56:28</td>\n",
              "    </tr>\n",
              "    <tr>\n",
              "      <th>2</th>\n",
              "      <td>36639282</td>\n",
              "      <td>&lt;p&gt;i need help to solve the problem. i really ...</td>\n",
              "      <td>loop or previous error loading module in coran...</td>\n",
              "      <td>&lt;lua&gt;</td>\n",
              "      <td>2016-04-15 05:59:41</td>\n",
              "    </tr>\n",
              "    <tr>\n",
              "      <th>3</th>\n",
              "      <td>3401286</td>\n",
              "      <td>&lt;p&gt;I've been trying to integrate Lua into my m...</td>\n",
              "      <td>Using LuaInterface - ERROR_DLL_INIT_FAILED</td>\n",
              "      <td>&lt;c#&gt;&lt;dll&gt;&lt;lua&gt;</td>\n",
              "      <td>2010-08-03 22:40:21</td>\n",
              "    </tr>\n",
              "    <tr>\n",
              "      <th>4</th>\n",
              "      <td>3400851</td>\n",
              "      <td>&lt;pre&gt;&lt;code&gt;luaL_loadfile(mState, path.c_str())...</td>\n",
              "      <td>Execution time limit for a Lua script called f...</td>\n",
              "      <td>&lt;c++&gt;&lt;c&gt;&lt;lua&gt;&lt;lua-api&gt;</td>\n",
              "      <td>2010-08-03 21:24:13</td>\n",
              "    </tr>\n",
              "    <tr>\n",
              "      <th>...</th>\n",
              "      <td>...</td>\n",
              "      <td>...</td>\n",
              "      <td>...</td>\n",
              "      <td>...</td>\n",
              "      <td>...</td>\n",
              "    </tr>\n",
              "    <tr>\n",
              "      <th>4995</th>\n",
              "      <td>1864235</td>\n",
              "      <td>&lt;p&gt;I am little stuck on a problem. I have tons...</td>\n",
              "      <td>How do I sort files into multiple folders in M...</td>\n",
              "      <td>&lt;matlab&gt;&lt;file-io&gt;&lt;directory&gt;</td>\n",
              "      <td>2009-12-08 02:32:38</td>\n",
              "    </tr>\n",
              "    <tr>\n",
              "      <th>4996</th>\n",
              "      <td>10179431</td>\n",
              "      <td>&lt;p&gt;If I perform &lt;code&gt;s.device_macs&lt;/code&gt; the...</td>\n",
              "      <td>MATLAB 'cat()' function returning different ma...</td>\n",
              "      <td>&lt;matlab&gt;&lt;concatenation&gt;&lt;concat&gt;&lt;cat&gt;</td>\n",
              "      <td>2012-04-16 18:18:30</td>\n",
              "    </tr>\n",
              "    <tr>\n",
              "      <th>4997</th>\n",
              "      <td>18768291</td>\n",
              "      <td>&lt;p&gt;I am looking for a way to access variables ...</td>\n",
              "      <td>Matlab navigate function workspace</td>\n",
              "      <td>&lt;matlab&gt;&lt;function&gt;&lt;workspace&gt;</td>\n",
              "      <td>2013-09-12 15:23:00</td>\n",
              "    </tr>\n",
              "    <tr>\n",
              "      <th>4998</th>\n",
              "      <td>26962745</td>\n",
              "      <td>&lt;p&gt;My question might be simple, but I am stuck...</td>\n",
              "      <td>Stereo FM modulation in Matlab</td>\n",
              "      <td>&lt;matlab&gt;&lt;signal-processing&gt;&lt;modulation&gt;</td>\n",
              "      <td>2014-11-16 22:22:30</td>\n",
              "    </tr>\n",
              "    <tr>\n",
              "      <th>4999</th>\n",
              "      <td>1873405</td>\n",
              "      <td>&lt;p&gt;i'm writing LZW in matlab,but i don't know ...</td>\n",
              "      <td>writing LZW program in matlab</td>\n",
              "      <td>&lt;matlab&gt;</td>\n",
              "      <td>2009-12-09 11:50:38</td>\n",
              "    </tr>\n",
              "  </tbody>\n",
              "</table>\n",
              "<p>133284 rows × 5 columns</p>\n",
              "</div>"
            ],
            "text/plain": [
              "            Id  ...         CreationDate\n",
              "0      3967692  ...  2010-10-19 11:07:33\n",
              "1     62730636  ...  2020-07-04 14:56:28\n",
              "2     36639282  ...  2016-04-15 05:59:41\n",
              "3      3401286  ...  2010-08-03 22:40:21\n",
              "4      3400851  ...  2010-08-03 21:24:13\n",
              "...        ...  ...                  ...\n",
              "4995   1864235  ...  2009-12-08 02:32:38\n",
              "4996  10179431  ...  2012-04-16 18:18:30\n",
              "4997  18768291  ...  2013-09-12 15:23:00\n",
              "4998  26962745  ...  2014-11-16 22:22:30\n",
              "4999   1873405  ...  2009-12-09 11:50:38\n",
              "\n",
              "[133284 rows x 5 columns]"
            ]
          },
          "metadata": {},
          "execution_count": 2
        }
      ]
    },
    {
      "cell_type": "code",
      "metadata": {
        "id": "16VL9otVEtKv"
      },
      "source": [
        "import numpy as np \n",
        "import pandas as pd \n",
        "from keras.preprocessing.sequence import pad_sequences\n",
        "from keras.models import Sequential\n",
        "from keras.layers import Dense, Embedding, LSTM, SpatialDropout1D\n",
        "from sklearn.model_selection import train_test_split\n",
        "from keras.utils.np_utils import to_categorical\n",
        "import re"
      ],
      "execution_count": null,
      "outputs": []
    },
    {
      "cell_type": "code",
      "metadata": {
        "id": "arseslbGFBCl"
      },
      "source": [
        "from keras.preprocessing.text import Tokenizer\n",
        "max_fatures = 2000\n",
        "tokenizer = Tokenizer(num_words=max_fatures, split=' ')\n",
        "tokenizer.fit_on_texts(data['Body'].values)\n",
        "X = tokenizer.texts_to_sequences(data['Body'].values)\n",
        "\n",
        "\n"
      ],
      "execution_count": null,
      "outputs": []
    },
    {
      "cell_type": "code",
      "metadata": {
        "id": "rV6ORyHKSCVk"
      },
      "source": [
        "X = pad_sequences(X)"
      ],
      "execution_count": null,
      "outputs": []
    },
    {
      "cell_type": "code",
      "metadata": {
        "colab": {
          "base_uri": "https://localhost:8080/"
        },
        "id": "RAGCyk1NNERI",
        "outputId": "960f30a6-2f6f-4293-8060-ba87c5b4f735"
      },
      "source": [
        "X"
      ],
      "execution_count": null,
      "outputs": [
        {
          "output_type": "execute_result",
          "data": {
            "text/plain": [
              "array([[   0,    0,    0, ...,   17,  550,    1],\n",
              "       [   0,    0,    0, ...,  131,    2,    8],\n",
              "       [   0,    0,    0, ...,   84,    6,    1],\n",
              "       ...,\n",
              "       [   0,    0,    0, ..., 1749,   45,  429],\n",
              "       [   0,    0,    0, ..., 1358,    2,    8],\n",
              "       [   0,    0,    0, ...,  256,  189,    1]], dtype=int32)"
            ]
          },
          "metadata": {},
          "execution_count": 6
        }
      ]
    },
    {
      "cell_type": "code",
      "metadata": {
        "colab": {
          "base_uri": "https://localhost:8080/"
        },
        "id": "aqL3U-vXVwfs",
        "outputId": "9ea1c78e-8ace-410f-db57-2622dffc9501"
      },
      "source": [
        "type(X)\n",
        "X = pd.DataFrame(X)\n",
        "X.info()"
      ],
      "execution_count": null,
      "outputs": [
        {
          "output_type": "stream",
          "name": "stdout",
          "text": [
            "<class 'pandas.core.frame.DataFrame'>\n",
            "RangeIndex: 133284 entries, 0 to 133283\n",
            "Columns: 6203 entries, 0 to 6202\n",
            "dtypes: int32(6203)\n",
            "memory usage: 3.1 GB\n"
          ]
        }
      ]
    },
    {
      "cell_type": "code",
      "metadata": {
        "id": "Tm8ZRa2ANzos",
        "colab": {
          "base_uri": "https://localhost:8080/",
          "height": 54
        },
        "outputId": "d00ca8ca-3767-4cfb-80f2-94f8c4943723"
      },
      "source": [
        "  \"\"\"pickle_out = open(\"/content/drive/MyDrive/Etudes/IA/stackoverflow_/y_lstmrawtags.pickle\",\"wb\")\n",
        "  pickle.dump(data[\"Tags\"], pickle_out)\n",
        "  pickle_out.close() \"\"\""
      ],
      "execution_count": null,
      "outputs": [
        {
          "output_type": "execute_result",
          "data": {
            "application/vnd.google.colaboratory.intrinsic+json": {
              "type": "string"
            },
            "text/plain": [
              "'pickle_out = open(\"/content/drive/MyDrive/Etudes/IA/stackoverflow_/y_lstmrawtags.pickle\",\"wb\")\\npickle.dump(data[\"Tags\"], pickle_out)\\npickle_out.close() '"
            ]
          },
          "metadata": {},
          "execution_count": 8
        }
      ]
    },
    {
      "cell_type": "code",
      "metadata": {
        "id": "a2KrLWEJxdUt"
      },
      "source": [
        "from sklearn.model_selection import train_test_split\n",
        "X_train, X_test, y_train, y_test = train_test_split(X, data['Tags'], test_size=0.20, random_state=42)"
      ],
      "execution_count": null,
      "outputs": []
    },
    {
      "cell_type": "code",
      "metadata": {
        "id": "TDCtsCeXT7aT"
      },
      "source": [
        "\n",
        "import pickle\n",
        "def save():\n",
        "  pickle_out = open(\"/content/drive/MyDrive/Etudes/IA/stackoverflow_/X_train_seq.pickle\",\"wb\")\n",
        "  pickle.dump(X_train, pickle_out)\n",
        "  pickle_out.close()\n",
        "\n",
        "  pickle_out = open(\"/content/drive/MyDrive/Etudes/IA/stackoverflow_/X_test_seq.pickle\",\"wb\")\n",
        "  pickle.dump(X_test, pickle_out)\n",
        "  pickle_out.close()\n",
        "\n",
        "\n",
        "save()"
      ],
      "execution_count": null,
      "outputs": []
    },
    {
      "cell_type": "code",
      "metadata": {
        "colab": {
          "base_uri": "https://localhost:8080/"
        },
        "id": "sHpxiMgpVOco",
        "outputId": "f4a3153a-e822-4a10-9613-3eb24c9eab97"
      },
      "source": [
        "\n",
        "target_interest  = [\"Assembly\", \"C\", \"C++\", \"CoffeeScript\", \"Go\", \"Groovy\", \"Haskell\", \"Java\", \n",
        "                    \"JavaScript\", \"Lua\", \"Matlab\", \"Objective-c\",\"html\",\"css\",\"android\",\"Perl\", \"PHP\",\n",
        "                    \"Python\", \"R\", \"Ruby\", \"Scala\", \"SQL\", \"Swift\", \"TypeScript\",\"Vb.Net\", \"Vba\"]\n",
        "target_interest = list(str_.lower() for str_ in target_interest)\n",
        "print(len(target_interest))\n",
        "print(target_interest)"
      ],
      "execution_count": null,
      "outputs": [
        {
          "output_type": "stream",
          "name": "stdout",
          "text": [
            "26\n",
            "['assembly', 'c', 'c++', 'coffeescript', 'go', 'groovy', 'haskell', 'java', 'javascript', 'lua', 'matlab', 'objective-c', 'html', 'css', 'android', 'perl', 'php', 'python', 'r', 'ruby', 'scala', 'sql', 'swift', 'typescript', 'vb.net', 'vba']\n"
          ]
        }
      ]
    },
    {
      "cell_type": "code",
      "metadata": {
        "colab": {
          "base_uri": "https://localhost:8080/"
        },
        "id": "2YNfNa59VSNI",
        "outputId": "e416523b-ca8e-4bfa-a5b6-31796104a066"
      },
      "source": [
        "def clean_tags(tags_content):\n",
        "  cleaned = []\n",
        "  \n",
        "  \n",
        "  token_vec = pts.tokenizer(tags_content)\n",
        "  wrong = ['>','<']\n",
        "  for tag in token_vec:\n",
        "    if tag not in wrong:\n",
        "      cleaned.append(tag)\n",
        "  return cleaned\n",
        "\n",
        "print(clean_tags(y_train.iloc[0]))"
      ],
      "execution_count": null,
      "outputs": [
        {
          "output_type": "stream",
          "name": "stdout",
          "text": [
            "['python', 'r', 'dataframe']\n"
          ]
        }
      ]
    },
    {
      "cell_type": "code",
      "metadata": {
        "colab": {
          "base_uri": "https://localhost:8080/"
        },
        "id": "DPvUyzyMVWbW",
        "outputId": "82a11d36-2f0e-4d15-ae19-db394b7e1857"
      },
      "source": [
        "#10min\n",
        "def target_selection_to_bin(y_train, y_test):\n",
        "  y_train, y_test\n",
        "  target_train = np.zeros((y_train.shape[0], 26))\n",
        "\n",
        "  target_test = np.zeros((y_test.shape[0], 26))\n",
        "  len1, len2 = y_train.shape[0], y_test.shape[0]\n",
        "\n",
        "  for i in range(y_train.shape[0]):\n",
        "    #print(data[\"Tags\"].iloc[i])\n",
        "    tag_list  = clean_tags(y_train.iloc[i])\n",
        "    #print(tag_list)\n",
        "    for tag_ in tag_list:\n",
        "      tag = str(tag_)\n",
        "\n",
        "      if (tag in target_interest):\n",
        "        print(\"Present tag: \",tag,\"progress: \", np.floor(i/len1*100),'% ',end=\"\\r\")\n",
        "\n",
        "        target_train[i,target_interest.index(tag)] = 1\n",
        "        #print(data[\"Tags\"].iloc[i])\n",
        "\n",
        "  for i in range(y_test.shape[0]):\n",
        "    #print(data[\"Tags\"].iloc[i])\n",
        "    tag_list  = clean_tags(y_test.iloc[i])\n",
        "    #print(tag_list)\n",
        "    for tag_ in tag_list:\n",
        "      tag = str(tag_)\n",
        "\n",
        "      if (tag in target_interest):\n",
        "        print(\"Present tag: \",tag,\"progress: \", np.floor(i/len2*100),'% ',end=\"\\r\")\n",
        "\n",
        "        target_test[i,target_interest.index(tag)] = 1\n",
        "        #print(data[\"Tags\"].iloc[i])\n",
        "  return target_train, target_test\n",
        "\n",
        "y_train_bin, y_test_bin = target_selection_to_bin(y_train, y_test)"
      ],
      "execution_count": null,
      "outputs": [
        {
          "output_type": "stream",
          "name": "stdout",
          "text": [
            ""
          ]
        }
      ]
    },
    {
      "cell_type": "code",
      "metadata": {
        "id": "63EQFsh1VqZD"
      },
      "source": [
        "pickle_out = open(\"/content/drive/MyDrive/Etudes/IA/stackoverflow_/target_test_lstm.pickle\",\"wb\")\n",
        "pickle.dump(y_train_bin, pickle_out)\n",
        "pickle_out.close()\n",
        "pickle_out = open(\"/content/drive/MyDrive/Etudes/IA/stackoverflow_/target_ltsm.pickle\",\"wb\")\n",
        "pickle.dump(y_test_bin , pickle_out)\n",
        "pickle_out.close()"
      ],
      "execution_count": null,
      "outputs": []
    },
    {
      "cell_type": "code",
      "metadata": {
        "colab": {
          "base_uri": "https://localhost:8080/"
        },
        "id": "5R2_iHvayq2D",
        "outputId": "4031ae64-4c05-47f7-bf53-bffcb3603b4d"
      },
      "source": [
        "print(X_train.shape)\n",
        "print(X_test.shape)\n",
        "print(y_train.shape)\n",
        "print(y_test.shape)\n"
      ],
      "execution_count": null,
      "outputs": [
        {
          "output_type": "stream",
          "name": "stdout",
          "text": [
            "(106626, 6203)\n",
            "(26657, 6203)\n",
            "(106626,)\n",
            "(26657,)\n"
          ]
        }
      ]
    },
    {
      "cell_type": "code",
      "metadata": {
        "colab": {
          "base_uri": "https://localhost:8080/"
        },
        "id": "WeGSAWyyXvXq",
        "outputId": "48f19591-05b1-4804-a483-e879cc3c2bc3"
      },
      "source": [
        "#label distribution\n",
        "print(\"data distribution test set  \\t train set\")\n",
        "for i in range(len(target_interest)):\n",
        "  print(target_interest[i])\n",
        "  print(\"\\t\\t\",np.count_nonzero(y_test_bin[:,i] == 1, axis=0),'\\t\\t', np.count_nonzero(y_train_bin[:,i] == 1,axis=0))"
      ],
      "execution_count": null,
      "outputs": [
        {
          "output_type": "stream",
          "name": "stdout",
          "text": [
            "data distribution test set  \t train set\n",
            "assembly\n",
            "\t\t 970 \t\t 4033\n",
            "c\n",
            "\t\t 2427 \t\t 9610\n",
            "c++\n",
            "\t\t 1258 \t\t 4958\n",
            "coffeescript\n",
            "\t\t 998 \t\t 4002\n",
            "go\n",
            "\t\t 997 \t\t 4009\n",
            "groovy\n",
            "\t\t 1997 \t\t 8003\n",
            "haskell\n",
            "\t\t 969 \t\t 4037\n",
            "java\n",
            "\t\t 1578 \t\t 6355\n",
            "javascript\n",
            "\t\t 2119 \t\t 8483\n",
            "lua\n",
            "\t\t 972 \t\t 4028\n",
            "matlab\n",
            "\t\t 1014 \t\t 3990\n",
            "objective-c\n",
            "\t\t 1000 \t\t 4093\n",
            "html\n",
            "\t\t 1290 \t\t 5329\n",
            "css\n",
            "\t\t 994 \t\t 4172\n",
            "android\n",
            "\t\t 1106 \t\t 4235\n",
            "perl\n",
            "\t\t 1038 \t\t 3968\n",
            "php\n",
            "\t\t 1161 \t\t 4539\n",
            "python\n",
            "\t\t 1188 \t\t 4640\n",
            "r\n",
            "\t\t 1015 \t\t 4029\n",
            "ruby\n",
            "\t\t 1050 \t\t 4145\n",
            "scala\n",
            "\t\t 1020 \t\t 4037\n",
            "sql\n",
            "\t\t 1056 \t\t 4395\n",
            "swift\n",
            "\t\t 1029 \t\t 3981\n",
            "typescript\n",
            "\t\t 995 \t\t 4023\n",
            "vb.net\n",
            "\t\t 965 \t\t 4042\n",
            "vba\n",
            "\t\t 1030 \t\t 3990\n"
          ]
        }
      ]
    },
    {
      "cell_type": "code",
      "metadata": {
        "colab": {
          "base_uri": "https://localhost:8080/"
        },
        "id": "GhK-nJn9V44z",
        "outputId": "34bf7d4b-1216-4423-c904-bcbb684e1ab7"
      },
      "source": [
        "print(target.shape)\n",
        "print(x_train.shape)"
      ],
      "execution_count": null,
      "outputs": [
        {
          "output_type": "stream",
          "name": "stdout",
          "text": [
            "(256352, 26)\n",
            "(256352, 40000)\n"
          ]
        }
      ]
    },
    {
      "cell_type": "code",
      "metadata": {
        "id": "UWByghQnfZKL"
      },
      "source": [
        ""
      ],
      "execution_count": null,
      "outputs": []
    }
  ]
}